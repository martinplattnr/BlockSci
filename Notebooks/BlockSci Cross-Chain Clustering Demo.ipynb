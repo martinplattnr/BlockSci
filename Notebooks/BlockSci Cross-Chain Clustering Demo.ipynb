{
 "cells": [
  {
   "cell_type": "code",
   "execution_count": 1,
   "metadata": {},
   "outputs": [
    {
     "name": "stderr",
     "output_type": "stream",
     "text": [
      "Warning: You only have 7GB of free disk space left. Running out of disk space may crash the parser and corrupt the BlockSci data files.\n"
     ]
    }
   ],
   "source": [
    "import blocksci"
   ]
  },
  {
   "cell_type": "markdown",
   "metadata": {},
   "source": [
    "## Load BTC and BCH"
   ]
  },
  {
   "cell_type": "code",
   "execution_count": 2,
   "metadata": {},
   "outputs": [],
   "source": [
    "btc = blocksci.Blockchain(\"/mnt/data/blocksci/bitcoin/595303-root-v0.6-0e6e863/config.json\")\n",
    "bch = blocksci.Blockchain(\"/mnt/data/blocksci/bitcoin-cash/595303-fork-v0.6-0e6e863/config.json\")"
   ]
  },
  {
   "cell_type": "code",
   "execution_count": 3,
   "metadata": {},
   "outputs": [
    {
     "name": "stdout",
     "output_type": "stream",
     "text": [
      "BTC block height: 595303\n",
      "BCH block height: 595303\n"
     ]
    }
   ],
   "source": [
    "print(\"BTC block height:\", str(len(btc)))\n",
    "print(\"BCH block height:\", str(len(bch)))"
   ]
  },
  {
   "cell_type": "markdown",
   "metadata": {},
   "source": [
    "## Create Single-Chain Clusterings: BTC and BCH"
   ]
  },
  {
   "cell_type": "code",
   "execution_count": 4,
   "metadata": {},
   "outputs": [
    {
     "name": "stdout",
     "output_type": "stream",
     "text": [
      "Creating clustering based on 1 chain(s), reducing result to addresses seen in bitcoin\n",
      "Preparing data structure for clustering\n",
      "Linking nested script-hash addresses\n",
      "99.94% done\n",
      "Clustering using bitcoin data (595303 blocks)\n",
      "99.99% done\n",
      "Performing post-processing: resolving cluster nums for every address\n",
      "Performing post-processing: remapping cluster IDs and reducing to chain bitcoin\n",
      "99.99% done\n",
      "Reduce result: excluded 36452084 out of 898545366 addresses (4.06%)\n",
      "\n",
      "Saving cluster data to files\n",
      "Finished clustering with 862093282 addresses in 447946173 clusters\n"
     ]
    }
   ],
   "source": [
    "scClusteringBtc = blocksci.cluster.ClusterManager.create_clustering(\n",
    "    \"/mnt/data/blocksci/clustering_output/btc\",\n",
    "    btc\n",
    ")"
   ]
  },
  {
   "cell_type": "markdown",
   "metadata": {},
   "source": [
    "## Create Cross-Chain Clustering: BTC\n",
    "\n",
    "Create clustering which is reduced to addresses that appear on BTC"
   ]
  },
  {
   "cell_type": "code",
   "execution_count": 5,
   "metadata": {},
   "outputs": [],
   "source": [
    "chainsToCluster = [btc, bch]"
   ]
  },
  {
   "cell_type": "code",
   "execution_count": 6,
   "metadata": {},
   "outputs": [
    {
     "name": "stdout",
     "output_type": "stream",
     "text": [
      "Creating clustering based on 2 chain(s), reducing result to addresses seen in bitcoin\n",
      "Preparing data structure for clustering\n",
      "Linking nested script-hash addresses\n",
      "99.94% done\n",
      "Clustering using bitcoin data (595303 blocks)\n",
      "99.99% done\n",
      "Clustering using bitcoin_cash data (595303 blocks)\n",
      "99.90% done\n",
      "Performing post-processing: resolving cluster nums for every address\n",
      "Performing post-processing: remapping cluster IDs and reducing to chain bitcoin\n",
      "99.99% done\n",
      "Reduce result: excluded 36452084 out of 898545366 addresses (4.06%)\n",
      "\n",
      "Saving cluster data to files\n",
      "Finished clustering with 862093282 addresses in 447387376 clusters\n"
     ]
    }
   ],
   "source": [
    "ccClusteringBtc = blocksci.cluster.ClusterManager.create_clustering_multichain(\n",
    "    \"/mnt/data/blocksci/clustering_output/btc_ccc\",\n",
    "    chainsToCluster,\n",
    "    blocksci.chain_id.bitcoin\n",
    ")"
   ]
  },
  {
   "cell_type": "markdown",
   "metadata": {},
   "source": [
    "## Query Sample Addresses"
   ]
  },
  {
   "cell_type": "code",
   "execution_count": 7,
   "metadata": {},
   "outputs": [],
   "source": [
    "addressesOfInterest = [\n",
    "    \"1ChcdjLRXnen6DMjC5s5QhsDhHfDkBkx43\",\n",
    "    \"18edC1G4J25rttodHnRBrVKtUSDijCrqpJ\",\n",
    "    \"1NoLGzWxSMXHJ7zH57TLPEtHxxUpU2R9he\"\n",
    "]"
   ]
  },
  {
   "cell_type": "code",
   "execution_count": 8,
   "metadata": {},
   "outputs": [
    {
     "name": "stdout",
     "output_type": "stream",
     "text": [
      "### Address 1ChcdjLRXnen6DMjC5s5QhsDhHfDkBkx43\n",
      "Cluster size on single-chain clustering for BTC: 3607\n",
      "Cluster size on cross-chain clustering, reduced to BTC: 3609\n",
      "\n",
      "### Address 18edC1G4J25rttodHnRBrVKtUSDijCrqpJ\n",
      "Cluster size on single-chain clustering for BTC: 1\n",
      "Cluster size on cross-chain clustering, reduced to BTC: 109\n",
      "\n",
      "### Address 1NoLGzWxSMXHJ7zH57TLPEtHxxUpU2R9he\n",
      "Cluster size on single-chain clustering for BTC: 1\n",
      "Cluster size on cross-chain clustering, reduced to BTC: 6\n",
      "\n"
     ]
    }
   ],
   "source": [
    "for addressString in addressesOfInterest:\n",
    "    addressOfInterest = btc.address_from_string(addressString)\n",
    "    \n",
    "    clusterScBtc = scClusteringBtc.cluster_with_address(addressOfInterest)\n",
    "    clusterCcBtc = ccClusteringBtc.cluster_with_address(addressOfInterest)\n",
    "\n",
    "    print(\"### Address\", addressString)\n",
    "    print(\"Cluster size on single-chain clustering for BTC:\", str(len(clusterScBtc)))\n",
    "    print(\"Cluster size on cross-chain clustering, reduced to BTC:\", str(len(clusterCcBtc)))\n",
    "    print()"
   ]
  }
 ],
 "metadata": {
  "kernelspec": {
   "display_name": "Python 3",
   "language": "python",
   "name": "python3"
  },
  "language_info": {
   "codemirror_mode": {
    "name": "ipython",
    "version": 3
   },
   "file_extension": ".py",
   "mimetype": "text/x-python",
   "name": "python",
   "nbconvert_exporter": "python",
   "pygments_lexer": "ipython3",
   "version": "3.6.8"
  }
 },
 "nbformat": 4,
 "nbformat_minor": 2
}
